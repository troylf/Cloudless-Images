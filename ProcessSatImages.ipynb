{
 "cells": [
  {
   "cell_type": "code",
   "execution_count": 63,
   "metadata": {
    "collapsed": false
   },
   "outputs": [],
   "source": [
    "from numba import jit\n",
    "import cv2\n",
    "import numpy as np\n",
    "from IPython.display import clear_output\n"
   ]
  },
  {
   "cell_type": "code",
   "execution_count": 64,
   "metadata": {
    "collapsed": false
   },
   "outputs": [],
   "source": [
    "img = cv2.imread('oregon1.jpeg', 1)\n",
    "img2 = cv2.imread('oregon2.jpeg', 1)\n",
    "\n",
    "imgarr = np.array([img])\n",
    "\n",
    "imgarr = np.append( imgarr, [img2], axis=0 )"
   ]
  },
  {
   "cell_type": "code",
   "execution_count": 65,
   "metadata": {
    "collapsed": false
   },
   "outputs": [],
   "source": [
    "\n",
    "def getBrightness(px):\n",
    "    return(0.299*px[0] + 0.587*px[1] + 0.114*px[2])"
   ]
  },
  {
   "cell_type": "code",
   "execution_count": 66,
   "metadata": {
    "collapsed": false
   },
   "outputs": [],
   "source": [
    "\n",
    "def orderPixels(pxarr):\n",
    "\n",
    "    test_b = np.apply_along_axis(getBrightness, 1, pxarr)\n",
    "    return pxarr[ np.argsort(test_b) ]"
   ]
  },
  {
   "cell_type": "code",
   "execution_count": 67,
   "metadata": {
    "collapsed": false
   },
   "outputs": [],
   "source": [
    "\n",
    "def getPixelArray(imgArray, xpos, ypos):\n",
    "    temp = np.array([imgArray[0,xpos,ypos]])\n",
    "    \n",
    "    for x in range(1, imgArray.shape[0]):\n",
    "        temp = np.append( temp, [imgArray[x, xpos, ypos]], axis=0 )\n",
    "    \n",
    "    return temp"
   ]
  },
  {
   "cell_type": "code",
   "execution_count": 68,
   "metadata": {
    "collapsed": true
   },
   "outputs": [],
   "source": [
    "\n",
    "def savePixelArray(imgArray, pxArray, xpos, ypos):\n",
    "    for t in range(0, imgArray.shape[0]):\n",
    "        imgArray[t,xpos,ypos] = pxArray[t]\n",
    "        \n",
    "    return imgArray"
   ]
  },
  {
   "cell_type": "code",
   "execution_count": 69,
   "metadata": {
    "collapsed": false
   },
   "outputs": [
    {
     "name": "stdout",
     "output_type": "stream",
     "text": [
      "[[185 191 190]\n",
      " [157 159 159]]\n",
      "[[157 159 159]\n",
      " [185 191 190]]\n"
     ]
    }
   ],
   "source": [
    "#print img2[0,0]\n",
    "#print imgarr[1,10,10]\n",
    "#print imgarr[0,10,10]\n",
    "#print imgarr[0].shape[1]\n",
    "#getPixelArray(imgarr, 30, 30)\n",
    "s = 100\n",
    "print(getPixelArray(imgarr, s, s))\n",
    "print(orderPixels(getPixelArray(imgarr,s,s)))\n",
    "#print \"something\" + str(14) + \"other\"\n",
    "#if (3000 % 101 == 0):\n",
    " #   print \"true statement\""
   ]
  },
  {
   "cell_type": "code",
   "execution_count": 70,
   "metadata": {
    "collapsed": false
   },
   "outputs": [
    {
     "name": "stdout",
     "output_type": "stream",
     "text": [
      "9.948979591836734% done\n"
     ]
    }
   ],
   "source": [
    "#test = np.array([img[0,0]]);\n",
    " \n",
    "#for x in range(1, 10):\n",
    "#    test = np.append( test, [img[x*100,x*100]],  axis=0 )\n",
    "\n",
    "for x in range(0, imgarr[0].shape[0]):\n",
    "    if (x % 10 == 0):\n",
    "        clear_output(wait=1)\n",
    "        print(str(x*10/imgarr[0].shape[0]) + \"% done\")\n",
    "    for y in range(0, imgarr[0].shape[1]):\n",
    "        imgarr = savePixelArray(imgarr, orderPixels(getPixelArray(imgarr,x,y)), x, y)\n",
    "        a\n",
    "        \n",
    "\n",
    "for x in range(0, imgarr.shape[0]):\n",
    "    cv2.imwrite('out'+ str(x)+'.png',imgarr[x])"
   ]
  },
  {
   "cell_type": "markdown",
   "metadata": {
    "collapsed": true
   },
   "source": []
  }
 ],
 "metadata": {
  "kernelspec": {
   "display_name": "Python 3",
   "language": "python",
   "name": "python3"
  },
  "language_info": {
   "codemirror_mode": {
    "name": "ipython",
    "version": 3
   },
   "file_extension": ".py",
   "mimetype": "text/x-python",
   "name": "python",
   "nbconvert_exporter": "python",
   "pygments_lexer": "ipython3",
   "version": "3.4.3"
  }
 },
 "nbformat": 4,
 "nbformat_minor": 0
}
